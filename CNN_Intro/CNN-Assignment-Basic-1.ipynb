{
 "cells": [
  {
   "cell_type": "markdown",
   "metadata": {},
   "source": [
    "# What is CNN ?\n",
    "\n",
    "\n",
    "#### A CNN is a neural network that typically contains several types of layers, which includes :-\n",
    "\n",
    "* convolutional layer \n",
    "* pooling layer, and \n",
    "* activation layer."
   ]
  },
  {
   "cell_type": "markdown",
   "metadata": {},
   "source": [
    "## Convolutional Layer\n",
    "\n",
    "* To understand what a CNN is, you need to understand how convolutions work. \n",
    "\n",
    "* Imagine you have an image represented as a 5x5 matrix of values, and you take a 3x3 matrix and slide that 3x3 window around the image. \n",
    "\n",
    "* At each position the 3x3 visits, you matrix multiply the values of your 3x3 window by the values in the image that are currently being covered by the window. \n",
    "\n",
    "* This results in a single number the represents all the values in that window of the image. \n",
    "\n",
    "Here’s a gif for clarity:"
   ]
  },
  {
   "cell_type": "markdown",
   "metadata": {},
   "source": [
    "![Conv Gif](./conv.gif)"
   ]
  },
  {
   "cell_type": "markdown",
   "metadata": {},
   "source": [
    "## Level - 1 - Code the Convolutional Layer\n"
   ]
  },
  {
   "cell_type": "markdown",
   "metadata": {},
   "source": [
    "![Detailed Conv Gif](./conv_detailed.gif)"
   ]
  },
  {
   "cell_type": "markdown",
   "metadata": {},
   "source": [
    "### Question 1"
   ]
  },
  {
   "cell_type": "code",
   "execution_count": null,
   "metadata": {
    "collapsed": true
   },
   "outputs": [],
   "source": [
    "# First Activation Map\n",
    "V[0,0,0] = np.sum(X[:,:3,:3] * W0) + b0\n",
    "V[0,0,1] = np.sum(X[:,:3,2:5] * W0) + b0\n",
    "V[0,0,2] = np.sum(X[:,:3,4:] * W0) + b0\n",
    "V[0,1,0] = np.sum(X[:,2:5,:3] * W0) + b0\n",
    "V[0,1,1] = np.sum(X[:,2:5,2:5] * W0) + b0\n",
    "V[0,1,2] = np.sum(X[:,2:5,4:] * W0) + b0 \n",
    "V[0,2,0] = np.sum(X[:,4:,:3] * W0) + b0\n",
    "V[0,2,1] = np.sum(X[:,4:,2:5] * W0) + b0\n",
    "V[0,2,2] = np.sum(X[:,4:,4:] * W0) + b0\n",
    "\n",
    "# Second Activation Map\n",
    "V[1,0,0] = np.sum(X[:,:3,:3] * W1) + b1\n",
    "V[1,0,1] = np.sum(X[:,:3,2:5] * W1) + b1\n",
    "V[1,0,2] = np.sum(X[:,:3,4:] * W1) + b1\n",
    "V[1,1,0] = np.sum(X[:,2:5,:3] * W1) + b1\n",
    "V[1,1,1] = np.sum(X[:,2:5,2:5] * W1) + b1\n",
    "V[1,1,2] = np.sum(X[:,2:5,4:] * W1) + b1\n",
    "V[1,2,0] = np.sum(X[:,4:,:3] * W1) + b1\n",
    "V[1,2,1] = np.sum(X[:,4:,2:5] * W1) + b1\n",
    "V[1,2,2] = np.sum(X[:,4:,4:] * W1) + b1\n",
    "V"
   ]
  },
  {
   "cell_type": "code",
   "execution_count": 221,
   "metadata": {
    "collapsed": true
   },
   "outputs": [],
   "source": [
    "# Write a function which does the convolution.\n",
    "# Code for a 3d Matrix\n",
    "# Before writing out code, write function header with parameters and get it reviewed by Mentors"
   ]
  },
  {
   "cell_type": "code",
   "execution_count": 222,
   "metadata": {
    "collapsed": true
   },
   "outputs": [],
   "source": [
    "import numpy as np"
   ]
  },
  {
   "cell_type": "code",
   "execution_count": 223,
   "metadata": {
    "collapsed": false
   },
   "outputs": [],
   "source": [
    "X = np.array([[[0,0,0,0,0,0,0],[0,1,2,2,2,0,0],[0,2,1,1,0,0,0],[0,2,0,1,0,2,0],[0,1,2,2,1,1,0],[0,0,0,0,1,2,0],[0,0,0,0,0,0,0]],\n",
    "              [[0,0,0,0,0,0,0],[0,1,2,2,1,1,0],[0,1,0,0,2,1,0],[0,2,0,2,1,0,0],[0,1,0,1,0,0,0],[0,2,2,1,0,1,0],[0,0,0,0,0,0,0]],\n",
    "              [[0,0,0,0,0,0,0],[0,2,2,1,2,2,0],[0,2,1,2,0,2,0],[0,2,2,0,2,2,0],[0,1,2,2,2,1,0],[0,2,1,1,0,2,0],[0,0,0,0,0,0,0]]])\n",
    "\n",
    "W0 = np.array([[[0,-1,-1],[-1,0,-1],[-1,1,0]],[[-1,1,1],[1,0,1],[-1,1,1]],[[0,1,-1],[0,1,1],[-1,1,1]]])\n",
    "W1 = np.array([[[1,1,0],[1,-1,-1],[1,-1,1]],[[-1,0,0],[-1,-1,-1],[0,1,-1]],[[0,-1,1],[0,0,1],[0,1,0]]])\n",
    "\n",
    "b0 = 1\n",
    "b1 = 0\n",
    "\n",
    "V = np.zeros((2,3,3))"
   ]
  },
  {
   "cell_type": "code",
   "execution_count": 417,
   "metadata": {
    "collapsed": false
   },
   "outputs": [
    {
     "data": {
      "text/plain": [
       "(3, 3)"
      ]
     },
     "execution_count": 417,
     "metadata": {},
     "output_type": "execute_result"
    }
   ],
   "source": [
    "W0[0].shape"
   ]
  },
  {
   "cell_type": "code",
   "execution_count": 418,
   "metadata": {
    "collapsed": false
   },
   "outputs": [
    {
     "data": {
      "text/plain": [
       "[array([[0, 0, 0],\n",
       "        [0, 1, 2],\n",
       "        [0, 2, 1]]), array([[0, 0, 0],\n",
       "        [2, 2, 2],\n",
       "        [1, 1, 0]]), array([[0, 0, 0],\n",
       "        [2, 0, 0],\n",
       "        [0, 0, 0]]), array([[0, 2, 1],\n",
       "        [0, 2, 0],\n",
       "        [0, 1, 2]]), array([[1, 1, 0],\n",
       "        [0, 1, 0],\n",
       "        [2, 2, 1]]), array([[0, 0, 0],\n",
       "        [0, 2, 0],\n",
       "        [1, 1, 0]]), array([[0, 1, 2],\n",
       "        [0, 0, 0],\n",
       "        [0, 0, 0]]), array([[2, 2, 1],\n",
       "        [0, 0, 1],\n",
       "        [0, 0, 0]]), array([[1, 1, 0],\n",
       "        [1, 2, 0],\n",
       "        [0, 0, 0]])]"
      ]
     },
     "execution_count": 418,
     "metadata": {},
     "output_type": "execute_result"
    }
   ],
   "source": [
    "'''Extracting submatrices from a matrix'''\n",
    "def submatrix(matrix, stride, weight_size):\n",
    "    row_length, column_length = weight_size\n",
    "    matrix_list = []   \n",
    "    endpoint_row = 0\n",
    "    for row_counter in range(0,matrix.shape[0],stride): \n",
    "        if row_counter+row_length <= matrix.shape[0]:\n",
    "            for column_counter in range(0,matrix.shape[1], stride):\n",
    "                if column_counter+column_length <= matrix.shape[1]:\n",
    "                    matrix_list.append(matrix[row_counter:row_counter+row_length,column_counter:column_counter+column_length])\n",
    "    return matrix_list\n",
    "submatrix(X[0],2,W0[0].shape)"
   ]
  },
  {
   "cell_type": "code",
   "execution_count": null,
   "metadata": {
    "collapsed": true
   },
   "outputs": [],
   "source": []
  },
  {
   "cell_type": "code",
   "execution_count": 414,
   "metadata": {
    "collapsed": false
   },
   "outputs": [],
   "source": [
    "'''getting convolutional matrix'''\n",
    "def convolved_matrix(weights, sub_matrix):\n",
    "    product_matrices = sub_matrix * weights\n",
    "    convolved_list = []\n",
    "    temps = []\n",
    "    for count in range(len(product_matrices)):\n",
    "        temp = (product_matrices)[count].sum()\n",
    "        temps.append(temp)\n",
    "        \n",
    "    convolved_list.append(temps)\n",
    "    output_matrix_size = int(np.sqrt(len(convolved_list[0])))\n",
    "    \n",
    "    return np.array(convolved_list).reshape(output_matrix_size,output_matrix_size)\n"
   ]
  },
  {
   "cell_type": "code",
   "execution_count": 419,
   "metadata": {
    "collapsed": false
   },
   "outputs": [
    {
     "data": {
      "text/plain": [
       "[array([[11,  6,  3],\n",
       "        [ 9, 10,  4],\n",
       "        [ 3,  1,  2]])]"
      ]
     },
     "execution_count": 419,
     "metadata": {},
     "output_type": "execute_result"
    }
   ],
   "source": [
    "output_1 = [convolved_matrix(W0[0], submatrix(X[0], 2, W0[0].shape))+\n",
    "            convolved_matrix(W0[1], submatrix(X[1], 2, W0[1].shape))+\n",
    "            convolved_matrix(W0[2], submatrix(X[2], 2, W0[2].shape))+b0]\n",
    "output_1"
   ]
  },
  {
   "cell_type": "code",
   "execution_count": 363,
   "metadata": {
    "collapsed": false
   },
   "outputs": [
    {
     "data": {
      "text/plain": [
       "[array([[-2, -5,  3],\n",
       "        [ 2,  2, -6],\n",
       "        [-1,  0, -1]])]"
      ]
     },
     "execution_count": 363,
     "metadata": {},
     "output_type": "execute_result"
    }
   ],
   "source": [
    "output_2 = [convolved_matrix(W1[0], submatrix(X[0], 2, W1[0]))+\n",
    "            convolved_matrix(W1[1], submatrix(X[1], 2, W1[1]))+\n",
    "            convolved_matrix(W1[2], submatrix(X[2], 2, W1[2]))+b1]\n",
    "output_2"
   ]
  },
  {
   "cell_type": "code",
   "execution_count": null,
   "metadata": {
    "collapsed": false
   },
   "outputs": [],
   "source": []
  },
  {
   "cell_type": "code",
   "execution_count": null,
   "metadata": {
    "collapsed": true
   },
   "outputs": [],
   "source": []
  },
  {
   "cell_type": "markdown",
   "metadata": {},
   "source": [
    "## Pooling Layers\n",
    "\n",
    "* Pooling works very much like convoluting, where we take a kernel and move the kernel over the image, the only difference is the function that is applied to the kernel and the image window isn’t linear.\n",
    "\n",
    "* Max pooling and Average pooling are the most common pooling functions. \n",
    "\n",
    "* Max pooling takes the largest value from the window of the image currently covered by the kernel, while average pooling takes the average of all values in the window."
   ]
  },
  {
   "cell_type": "markdown",
   "metadata": {},
   "source": [
    "![Pooling Gif](./pooling.gif)"
   ]
  },
  {
   "cell_type": "markdown",
   "metadata": {},
   "source": [
    "## Level - 2 - Code the Pooling Layer"
   ]
  },
  {
   "cell_type": "markdown",
   "metadata": {},
   "source": [
    "![Detailed Conv Gif](./Max_pooling.png)"
   ]
  },
  {
   "cell_type": "markdown",
   "metadata": {},
   "source": [
    "### Question 1"
   ]
  },
  {
   "cell_type": "code",
   "execution_count": null,
   "metadata": {
    "collapsed": true
   },
   "outputs": [],
   "source": [
    "# Write a function which does the max pooling.\n",
    "# Code for a 3d Matrix\n",
    "# Before writing out code, write function header with parameters and get it reviewed by Mentors"
   ]
  },
  {
   "cell_type": "code",
   "execution_count": 395,
   "metadata": {
    "collapsed": false
   },
   "outputs": [
    {
     "data": {
      "text/plain": [
       "[array([[11,  6,  3],\n",
       "        [ 9, 10,  4],\n",
       "        [ 3,  1,  2]])]"
      ]
     },
     "execution_count": 395,
     "metadata": {},
     "output_type": "execute_result"
    }
   ],
   "source": [
    "output_1"
   ]
  },
  {
   "cell_type": "code",
   "execution_count": 433,
   "metadata": {
    "collapsed": false
   },
   "outputs": [
    {
     "data": {
      "text/plain": [
       "array([[11, 10],\n",
       "       [10, 10]])"
      ]
     },
     "execution_count": 433,
     "metadata": {},
     "output_type": "execute_result"
    }
   ],
   "source": [
    "def max_pool(matrix, filter_size, stride):\n",
    "    filter_rows, filter_cols = filter_size\n",
    "    max_pool_list = []\n",
    "    sub_matrices = submatrix(matrix,stride,filter_size)\n",
    "    for length in range(len(sub_matrices)):\n",
    "        max_pool_list.append(np.max(sub_matrices[length]))\n",
    "    return np.array(max_pool_list).reshape((int(np.sqrt(len(max_pool_list))),int(np.sqrt(len(max_pool_list)))))\n",
    "    \n",
    "max_pool(output_1[0], (2,2), 1)"
   ]
  },
  {
   "cell_type": "code",
   "execution_count": 408,
   "metadata": {
    "collapsed": false
   },
   "outputs": [
    {
     "data": {
      "text/plain": [
       "array([[11,  6,  3],\n",
       "       [ 9, 10,  4],\n",
       "       [ 3,  1,  2]])"
      ]
     },
     "execution_count": 408,
     "metadata": {},
     "output_type": "execute_result"
    }
   ],
   "source": [
    "output_1[0]"
   ]
  },
  {
   "cell_type": "markdown",
   "metadata": {},
   "source": [
    "### Question 2"
   ]
  },
  {
   "cell_type": "code",
   "execution_count": null,
   "metadata": {
    "collapsed": true
   },
   "outputs": [],
   "source": []
  },
  {
   "cell_type": "code",
   "execution_count": null,
   "metadata": {
    "collapsed": true
   },
   "outputs": [],
   "source": [
    "# Write a function which does the average convolution.\n",
    "# Code for a 3d Matrix\n",
    "# Before writing out code, write function header with parameters and get it reviewed by Mentors"
   ]
  },
  {
   "cell_type": "code",
   "execution_count": 435,
   "metadata": {
    "collapsed": false
   },
   "outputs": [
    {
     "data": {
      "text/plain": [
       "array([[ 9.  ,  5.75],\n",
       "       [ 5.75,  4.25]])"
      ]
     },
     "execution_count": 435,
     "metadata": {},
     "output_type": "execute_result"
    }
   ],
   "source": [
    "def average_pool(matrix, filter_size, stride):\n",
    "    filter_rows, filter_cols = filter_size\n",
    "    average_pool_list = []\n",
    "    sub_matrices = submatrix(matrix,stride,filter_size)\n",
    "    for length in range(len(sub_matrices)):\n",
    "        average_pool_list.append(np.mean(sub_matrices[length]))\n",
    "    return np.array(average_pool_list).reshape((int(np.sqrt(len(average_pool_list))),int(np.sqrt(len(average_pool_list)))))\n",
    "    \n",
    "average_pool(output_1[0], (2,2), 1)"
   ]
  },
  {
   "cell_type": "markdown",
   "metadata": {},
   "source": [
    "# Lets Load an image and visualize the Conv and Pool"
   ]
  },
  {
   "cell_type": "markdown",
   "metadata": {},
   "source": [
    "### Load the Conv and Max pool using Keras"
   ]
  },
  {
   "cell_type": "code",
   "execution_count": 438,
   "metadata": {
    "collapsed": false
   },
   "outputs": [
    {
     "name": "stderr",
     "output_type": "stream",
     "text": [
      "Using TensorFlow backend.\n"
     ]
    },
    {
     "ename": "ModuleNotFoundError",
     "evalue": "No module named 'cv2'",
     "output_type": "error",
     "traceback": [
      "\u001b[0;31m---------------------------------------------------------------------------\u001b[0m",
      "\u001b[0;31mModuleNotFoundError\u001b[0m                       Traceback (most recent call last)",
      "\u001b[0;32m<ipython-input-438-dcad2f93696a>\u001b[0m in \u001b[0;36m<module>\u001b[0;34m()\u001b[0m\n\u001b[1;32m      5\u001b[0m \u001b[0;32mimport\u001b[0m \u001b[0mnumpy\u001b[0m \u001b[0;32mas\u001b[0m \u001b[0mnp\u001b[0m\u001b[0;34m\u001b[0m\u001b[0m\n\u001b[1;32m      6\u001b[0m \u001b[0;32mimport\u001b[0m \u001b[0mmatplotlib\u001b[0m\u001b[0;34m.\u001b[0m\u001b[0mpyplot\u001b[0m \u001b[0;32mas\u001b[0m \u001b[0mplt\u001b[0m\u001b[0;34m\u001b[0m\u001b[0m\n\u001b[0;32m----> 7\u001b[0;31m \u001b[0;32mimport\u001b[0m \u001b[0mcv2\u001b[0m  \u001b[0;31m# only used for loading the image, you can use anything that returns the image as a np.ndarray\u001b[0m\u001b[0;34m\u001b[0m\u001b[0m\n\u001b[0m\u001b[1;32m      8\u001b[0m \u001b[0;34m\u001b[0m\u001b[0m\n\u001b[1;32m      9\u001b[0m \u001b[0mget_ipython\u001b[0m\u001b[0;34m(\u001b[0m\u001b[0;34m)\u001b[0m\u001b[0;34m.\u001b[0m\u001b[0mmagic\u001b[0m\u001b[0;34m(\u001b[0m\u001b[0;34m'matplotlib inline'\u001b[0m\u001b[0;34m)\u001b[0m\u001b[0;34m\u001b[0m\u001b[0m\n",
      "\u001b[0;31mModuleNotFoundError\u001b[0m: No module named 'cv2'"
     ]
    }
   ],
   "source": [
    "from keras.layers import Convolution2D, MaxPooling2D, Activation\n",
    "from keras.models import Sequential\n",
    "\n",
    "\n",
    "import numpy as np\n",
    "import matplotlib.pyplot as plt\n",
    "import cv2  # only used for loading the image, you can use anything that returns the image as a np.ndarray\n",
    "\n",
    "%matplotlib inline"
   ]
  },
  {
   "cell_type": "markdown",
   "metadata": {},
   "source": [
    "### Display the image"
   ]
  },
  {
   "cell_type": "code",
   "execution_count": null,
   "metadata": {
    "collapsed": true
   },
   "outputs": [],
   "source": [
    "image = cv2.imread('beer.png') # Please load different Images to explore "
   ]
  },
  {
   "cell_type": "code",
   "execution_count": null,
   "metadata": {
    "collapsed": false
   },
   "outputs": [],
   "source": [
    "plt.imshow(image)"
   ]
  },
  {
   "cell_type": "code",
   "execution_count": null,
   "metadata": {
    "collapsed": false
   },
   "outputs": [],
   "source": [
    "# what does the image look like?\n",
    "image.shape"
   ]
  },
  {
   "cell_type": "markdown",
   "metadata": {},
   "source": [
    "## Level 3 - Performing and Understading Convolutions "
   ]
  },
  {
   "cell_type": "markdown",
   "metadata": {},
   "source": [
    "### Question 1 "
   ]
  },
  {
   "cell_type": "markdown",
   "metadata": {},
   "source": [
    "### Why it has 3 dimensions ?? "
   ]
  },
  {
   "cell_type": "markdown",
   "metadata": {},
   "source": [
    "Answer - "
   ]
  },
  {
   "cell_type": "markdown",
   "metadata": {},
   "source": [
    "## Play Around with below code to enhance your understanding of CNN"
   ]
  },
  {
   "cell_type": "markdown",
   "metadata": {},
   "source": [
    "## Lets create a model with 1 Convolutional layer"
   ]
  },
  {
   "cell_type": "markdown",
   "metadata": {},
   "source": [
    "### Question 2"
   ]
  },
  {
   "cell_type": "markdown",
   "metadata": {},
   "source": [
    "### Please fill in the comments "
   ]
  },
  {
   "cell_type": "code",
   "execution_count": null,
   "metadata": {
    "collapsed": true
   },
   "outputs": [],
   "source": [
    "model = Sequential()\n",
    "model.add(Convolution2D(3,    # number of ____________\n",
    "                        (3,    # ___________ dimension of kernel \n",
    "                        3),    # ___________ dimension of kernel\n",
    "                        input_shape=image.shape))"
   ]
  },
  {
   "cell_type": "code",
   "execution_count": null,
   "metadata": {
    "collapsed": true
   },
   "outputs": [],
   "source": [
    "image_batch = np.expand_dims(image,axis=0)"
   ]
  },
  {
   "cell_type": "markdown",
   "metadata": {},
   "source": [
    "### Question 3"
   ]
  },
  {
   "cell_type": "markdown",
   "metadata": {},
   "source": [
    "### What Happens if we dont expand the dims of image ? Why we need to do it ?\n"
   ]
  },
  {
   "cell_type": "markdown",
   "metadata": {},
   "source": [
    "Answer -"
   ]
  },
  {
   "cell_type": "code",
   "execution_count": null,
   "metadata": {
    "collapsed": false
   },
   "outputs": [],
   "source": [
    "image_batch.shape"
   ]
  },
  {
   "cell_type": "code",
   "execution_count": null,
   "metadata": {
    "collapsed": true
   },
   "outputs": [],
   "source": [
    "conv_image = model.predict(image_batch)"
   ]
  },
  {
   "cell_type": "code",
   "execution_count": null,
   "metadata": {
    "collapsed": false
   },
   "outputs": [],
   "source": [
    "plt.imshow(np.squeeze(conv_image, axis=0))"
   ]
  },
  {
   "cell_type": "code",
   "execution_count": null,
   "metadata": {
    "collapsed": true
   },
   "outputs": [],
   "source": [
    "def visualize_image(model, image):\n",
    "\n",
    "    image_batch = np.expand_dims(image,axis=0)\n",
    "    conv_image = model.predict(image_batch)\n",
    "    \n",
    "    # here we get rid of that added dimension and plot the image\n",
    "    conv_image = np.squeeze(conv_image, axis=0)\n",
    "    \n",
    "    print (conv_image.shape)\n",
    "    plt.imshow(conv_image)"
   ]
  },
  {
   "cell_type": "code",
   "execution_count": null,
   "metadata": {
    "collapsed": false
   },
   "outputs": [],
   "source": [
    "visualize_image(model, image)"
   ]
  },
  {
   "cell_type": "markdown",
   "metadata": {},
   "source": [
    "## Level 4 - Use Your Conv Function to visualize the image"
   ]
  },
  {
   "cell_type": "markdown",
   "metadata": {},
   "source": [
    "### Question 1 - Call your function to perform conv and plot the image obatined "
   ]
  },
  {
   "cell_type": "markdown",
   "metadata": {},
   "source": [
    "## 10x10 Kernel Convimage"
   ]
  },
  {
   "cell_type": "code",
   "execution_count": null,
   "metadata": {
    "collapsed": false
   },
   "outputs": [],
   "source": [
    "model = Sequential()\n",
    "model.add(Convolution2D(3,    \n",
    "                        (10,    \n",
    "                        10),    \n",
    "                        input_shape=image.shape))\n",
    "\n",
    "\n",
    "visualize_image(model, image)"
   ]
  },
  {
   "cell_type": "markdown",
   "metadata": {},
   "source": [
    "## Level 5"
   ]
  },
  {
   "cell_type": "markdown",
   "metadata": {},
   "source": [
    "### Question 1"
   ]
  },
  {
   "cell_type": "markdown",
   "metadata": {},
   "source": [
    "### What difference you notice between 3\\*3 and 10\\*10 kernal size ? "
   ]
  },
  {
   "cell_type": "markdown",
   "metadata": {},
   "source": [
    "Answer - "
   ]
  },
  {
   "cell_type": "markdown",
   "metadata": {},
   "source": [
    "### Question 2"
   ]
  },
  {
   "cell_type": "markdown",
   "metadata": {},
   "source": [
    "### What is the reason behing this difference ?"
   ]
  },
  {
   "cell_type": "markdown",
   "metadata": {},
   "source": [
    "Answer -"
   ]
  },
  {
   "cell_type": "markdown",
   "metadata": {},
   "source": [
    "# Play around with code below, to enhance your understading"
   ]
  },
  {
   "cell_type": "markdown",
   "metadata": {},
   "source": [
    "## Another image Vis "
   ]
  },
  {
   "cell_type": "code",
   "execution_count": null,
   "metadata": {
    "collapsed": true
   },
   "outputs": [],
   "source": [
    "# Note: matplot lib is pretty inconsistent with how it plots these weird image arrays.\n",
    "\n",
    "def nice_image_printer(model, image):\n",
    "    '''prints the image as a 2d array'''\n",
    "    image_batch = np.expand_dims(image,axis=0)\n",
    "    conv_image2 = model.predict(image_batch)\n",
    "\n",
    "    conv_image2 = np.squeeze(conv_image2, axis=0)\n",
    "    print (conv_image2.shape)\n",
    "    conv_image2 = conv_image2.reshape(conv_image2.shape[:2])\n",
    "\n",
    "    print (conv_image2.shape)\n",
    "    plt.imshow(conv_image2)"
   ]
  },
  {
   "cell_type": "code",
   "execution_count": null,
   "metadata": {
    "collapsed": true
   },
   "outputs": [],
   "source": [
    "model = Sequential()\n",
    "model.add(Convolution2D(1,    \n",
    "                        (3,    \n",
    "                        3),    \n",
    "                        input_shape=image.shape))"
   ]
  },
  {
   "cell_type": "code",
   "execution_count": null,
   "metadata": {
    "collapsed": false
   },
   "outputs": [],
   "source": [
    "nice_image_printer(model, image)"
   ]
  },
  {
   "cell_type": "markdown",
   "metadata": {},
   "source": [
    "### Question 3"
   ]
  },
  {
   "cell_type": "markdown",
   "metadata": {},
   "source": [
    "### Why this image is different from previous one ?"
   ]
  },
  {
   "cell_type": "markdown",
   "metadata": {},
   "source": [
    "Answer"
   ]
  },
  {
   "cell_type": "markdown",
   "metadata": {},
   "source": [
    "## Increase the kernal size"
   ]
  },
  {
   "cell_type": "code",
   "execution_count": null,
   "metadata": {
    "collapsed": false
   },
   "outputs": [],
   "source": [
    "# 15x15 kernel size\n",
    "model = Sequential()\n",
    "model.add(Convolution2D(1,    \n",
    "                        (15,    \n",
    "                        15),   \n",
    "                        input_shape=image.shape))\n",
    "\n",
    "nice_image_printer(model, image)"
   ]
  },
  {
   "cell_type": "markdown",
   "metadata": {},
   "source": [
    "## Adding a Relu Activation"
   ]
  },
  {
   "cell_type": "code",
   "execution_count": null,
   "metadata": {
    "collapsed": true
   },
   "outputs": [],
   "source": [
    "model = Sequential()\n",
    "model.add(Convolution2D(1,    \n",
    "                        (3,    \n",
    "                        3),    \n",
    "                        input_shape=image.shape))\n",
    "# Lets add a new activation layer!\n",
    "model.add(Activation('relu'))\n",
    "\n"
   ]
  },
  {
   "cell_type": "code",
   "execution_count": null,
   "metadata": {
    "collapsed": false
   },
   "outputs": [],
   "source": [
    "nice_image_printer(model, image)"
   ]
  },
  {
   "cell_type": "markdown",
   "metadata": {},
   "source": [
    "## Adding a Max pool After Relu"
   ]
  },
  {
   "cell_type": "code",
   "execution_count": null,
   "metadata": {
    "collapsed": false
   },
   "outputs": [],
   "source": [
    "model = Sequential()\n",
    "model.add(Convolution2D(3,    \n",
    "                        (3,    \n",
    "                        3),    \n",
    "                        input_shape=image.shape))\n",
    "model.add(Activation('relu'))\n",
    "model.add(MaxPooling2D(pool_size=(5,5)))\n",
    "\n",
    "visualize_image(model, image)"
   ]
  },
  {
   "cell_type": "code",
   "execution_count": null,
   "metadata": {
    "collapsed": true
   },
   "outputs": [],
   "source": []
  }
 ],
 "metadata": {
  "kernelspec": {
   "display_name": "Python 3",
   "language": "python",
   "name": "python3"
  },
  "language_info": {
   "codemirror_mode": {
    "name": "ipython",
    "version": 3
   },
   "file_extension": ".py",
   "mimetype": "text/x-python",
   "name": "python",
   "nbconvert_exporter": "python",
   "pygments_lexer": "ipython3",
   "version": "3.6.0"
  }
 },
 "nbformat": 4,
 "nbformat_minor": 2
}
