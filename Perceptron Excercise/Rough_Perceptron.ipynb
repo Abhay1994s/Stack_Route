{
 "cells": [
  {
   "cell_type": "markdown",
   "metadata": {},
   "source": [
    "### Importing modules"
   ]
  },
  {
   "cell_type": "code",
   "execution_count": 152,
   "metadata": {
    "collapsed": true
   },
   "outputs": [],
   "source": [
    "import pandas as pd\n",
    "import matplotlib.pyplot as plt\n",
    "import numpy as np\n",
    "import random"
   ]
  },
  {
   "cell_type": "markdown",
   "metadata": {},
   "source": [
    "### Importing necessary files"
   ]
  },
  {
   "cell_type": "code",
   "execution_count": 153,
   "metadata": {
    "collapsed": true
   },
   "outputs": [],
   "source": [
    "data_set_1 = pd.read_csv(\"datafile1.csv\", names = [\"X1\",\"X2\",\"Y\"])\n",
    "data_set_2 = pd.read_csv(\"datafile2.csv\", names = [\"X1\",\"X2\",\"Y\"])\n",
    "data_set_3 = pd.read_csv(\"datafile3.csv\", names = [\"X1\",\"X2\",\"Y\"])\n",
    "data_set_4 = pd.read_csv(\"datafile4.csv\", names = [\"X1\",\"X2\",\"Y\"])"
   ]
  },
  {
   "cell_type": "code",
   "execution_count": 154,
   "metadata": {
    "collapsed": false
   },
   "outputs": [
    {
     "data": {
      "text/html": [
       "<div>\n",
       "<table border=\"1\" class=\"dataframe\">\n",
       "  <thead>\n",
       "    <tr style=\"text-align: right;\">\n",
       "      <th></th>\n",
       "      <th>X1</th>\n",
       "      <th>X2</th>\n",
       "      <th>Y</th>\n",
       "    </tr>\n",
       "  </thead>\n",
       "  <tbody>\n",
       "    <tr>\n",
       "      <th>0</th>\n",
       "      <td>0.474341</td>\n",
       "      <td>-1.164631</td>\n",
       "      <td>0</td>\n",
       "    </tr>\n",
       "    <tr>\n",
       "      <th>1</th>\n",
       "      <td>1.683638</td>\n",
       "      <td>-1.782302</td>\n",
       "      <td>0</td>\n",
       "    </tr>\n",
       "    <tr>\n",
       "      <th>2</th>\n",
       "      <td>1.589368</td>\n",
       "      <td>0.049690</td>\n",
       "      <td>1</td>\n",
       "    </tr>\n",
       "    <tr>\n",
       "      <th>3</th>\n",
       "      <td>-1.026358</td>\n",
       "      <td>-0.320719</td>\n",
       "      <td>0</td>\n",
       "    </tr>\n",
       "    <tr>\n",
       "      <th>4</th>\n",
       "      <td>0.860988</td>\n",
       "      <td>-0.168258</td>\n",
       "      <td>0</td>\n",
       "    </tr>\n",
       "  </tbody>\n",
       "</table>\n",
       "</div>"
      ],
      "text/plain": [
       "         X1        X2  Y\n",
       "0  0.474341 -1.164631  0\n",
       "1  1.683638 -1.782302  0\n",
       "2  1.589368  0.049690  1\n",
       "3 -1.026358 -0.320719  0\n",
       "4  0.860988 -0.168258  0"
      ]
     },
     "execution_count": 154,
     "metadata": {},
     "output_type": "execute_result"
    }
   ],
   "source": [
    "data_set_1.head(5)"
   ]
  },
  {
   "cell_type": "code",
   "execution_count": 155,
   "metadata": {
    "collapsed": false
   },
   "outputs": [
    {
     "data": {
      "image/png": "[encoded data removed]",
      "text/plain": [
       "<matplotlib.figure.Figure at 0x7f54f7ead080>"
      ]
     },
     "metadata": {},
     "output_type": "display_data"
    }
   ],
   "source": [
    "plt.scatter(data_set_1['X1'], data_set_1['X2'], c = data_set_1['Y'])\n",
    "plt.xlabel('X1')\n",
    "plt.ylabel('X2')\n",
    "plt.title('Feature Plot X1 vs X2')\n",
    "plt.show()"
   ]
  },
  {
   "cell_type": "code",
   "execution_count": 156,
   "metadata": {
    "collapsed": true
   },
   "outputs": [],
   "source": [
    "## This Plot can be linearly separable"
   ]
  },
  {
   "cell_type": "code",
   "execution_count": 158,
   "metadata": {
    "collapsed": false
   },
   "outputs": [],
   "source": [
    "#n_epoch = 20 # no of iteration\n",
    "#w1 = np.random.random_sample() # weight 1 coresponding to X1\n",
    "#w2 = np.random.random_sample() # weight 2 coresponding to X2\n",
    "#bias = np.random.random_sample() # bias\n",
    "#l_rate = 0.1 # learning rate"
   ]
  },
  {
   "cell_type": "code",
   "execution_count": 159,
   "metadata": {
    "collapsed": true
   },
   "outputs": [],
   "source": [
    "def predict(dataset):\n",
    "    for i in data_set_1.iterrows():\n",
    "        X_1 = i[1][0]\n",
    "        X_2 = i[1][1]\n",
    "        Y_actual = i[1][2]\n",
    "        #print(\"Actual X1 is: \", X_1 ,\", Actual X2 is: \" ,X_2, \",Actual Y is: \", Y_actual)\n",
    "        activation_value = (w1*X_1)+(w2*X_2)+bias\n",
    "        if activation_value >=0:\n",
    "            Y_predicted = 1\n",
    "        else:\n",
    "            Y_predicted = 0\n",
    "    return Y_predicted"
   ]
  },
  {
   "cell_type": "code",
   "execution_count": 160,
   "metadata": {
    "collapsed": true
   },
   "outputs": [],
   "source": [
    "def train_weights(train, l_rate, n_epoch):\n",
    "    w1 = np.random.random_sample() # weight 1 coresponding to X1\n",
    "    w2 = np.random.random_sample() # weight 2 coresponding to X2\n",
    "    bias = np.random.random_sample() # bias\n",
    "    for epoch in range(n_epoch):\n",
    "        sum_error = 0.0\n",
    "        for i in data_set_1.iterrows():\n",
    "            X_1 = i[1][0]\n",
    "            X_2 = i[1][1]\n",
    "            Y_actual = i[1][2]\n",
    "            #print(\"Actual X1 is: \", X_1 ,\", Actual X2 is: \" ,X_2, \",Actual Y is: \", Y_actual)\n",
    "            activation_value = (w1*X_1)+(w2*X_2)+bias\n",
    "            if activation_value >=0:\n",
    "                Y_predicted = 1\n",
    "            else:\n",
    "                Y_predicted = 0\n",
    "            error = Y_actual - Y_predicted\n",
    "            sum_error += error**2\n",
    "            w1 = w1 + (error*X_1*l_rate)\n",
    "            w2 = w2 + (error*X_2*l_rate)\n",
    "            bias = bias + error\n",
    "        print('>epoch=%d, lrate=%.3f, error=%.3f' % (epoch, l_rate, sum_error))\n",
    "    return weights"
   ]
  },
  {
   "cell_type": "code",
   "execution_count": 161,
   "metadata": {
    "collapsed": false
   },
   "outputs": [
    {
     "name": "stdout",
     "output_type": "stream",
     "text": [
      ">epoch=0, lrate=0.100, error=9.000\n",
      ">epoch=1, lrate=0.100, error=4.000\n",
      ">epoch=2, lrate=0.100, error=2.000\n",
      ">epoch=3, lrate=0.100, error=2.000\n",
      ">epoch=4, lrate=0.100, error=2.000\n",
      ">epoch=5, lrate=0.100, error=2.000\n",
      ">epoch=6, lrate=0.100, error=2.000\n",
      ">epoch=7, lrate=0.100, error=4.000\n",
      ">epoch=8, lrate=0.100, error=1.000\n",
      ">epoch=9, lrate=0.100, error=2.000\n",
      ">epoch=10, lrate=0.100, error=2.000\n",
      ">epoch=11, lrate=0.100, error=2.000\n",
      ">epoch=12, lrate=0.100, error=3.000\n",
      ">epoch=13, lrate=0.100, error=1.000\n",
      ">epoch=14, lrate=0.100, error=2.000\n",
      ">epoch=15, lrate=0.100, error=4.000\n",
      ">epoch=16, lrate=0.100, error=2.000\n",
      ">epoch=17, lrate=0.100, error=2.000\n",
      ">epoch=18, lrate=0.100, error=2.000\n",
      ">epoch=19, lrate=0.100, error=0.000\n",
      "[-0.1, 0.06703210643922236, 0.3037286211215719]\n"
     ]
    }
   ],
   "source": [
    "#dataset_1 = data_set_1_new\n",
    "l_rate = 0.1\n",
    "n_epoch = 20\n",
    "weights = train_weights(dataset_1, l_rate, n_epoch)\n",
    "print(weights)"
   ]
  },
  {
   "cell_type": "code",
   "execution_count": null,
   "metadata": {
    "collapsed": true
   },
   "outputs": [],
   "source": []
  },
  {
   "cell_type": "code",
   "execution_count": 149,
   "metadata": {
    "collapsed": false
   },
   "outputs": [
    {
     "name": "stdout",
     "output_type": "stream",
     "text": [
      "w1 =  0.689593211573  w2 =  1.71919484703  bias =  -1.15972417115\n"
     ]
    }
   ],
   "source": [
    "while epoch < 20:\n",
    "    total_error = 0\n",
    "    for i in data_set_1.iterrows():\n",
    "        X_1 = i[1][0]\n",
    "        X_2 = i[1][1]\n",
    "        Y_actual = i[1][2]\n",
    "        #print(\"Actual X1 is: \", X_1 ,\", Actual X2 is: \" ,X_2, \",Actual Y is: \", Y_actual)\n",
    "        activation_value = (w1*X_1)+(w2*X_2)+bias\n",
    "        if activation_value >=0:\n",
    "            Y_predicted = 1\n",
    "        else:\n",
    "            Y_predicted = 0\n",
    "        error = Y_actual - Y_predicted\n",
    "        #print(error)\n",
    "        w1 = w1 + (error*X_1*l_rate)\n",
    "        w2 = w2 + (error*X_2*l_rate)\n",
    "        bias = bias + error\n",
    "        total_error += error**2\n",
    "    #print(total_error)\n",
    "    if(total_error == 0):\n",
    "        print(\"w1 = \",w1,\" w2 = \",w2,\" bias = \",bias)\n",
    "        break\n",
    "    epoch +=1\n",
    "    "
   ]
  },
  {
   "cell_type": "code",
   "execution_count": null,
   "metadata": {
    "collapsed": true
   },
   "outputs": [],
   "source": []
  },
  {
   "cell_type": "code",
   "execution_count": null,
   "metadata": {
    "collapsed": true
   },
   "outputs": [],
   "source": []
  },
  {
   "cell_type": "code",
   "execution_count": null,
   "metadata": {
    "collapsed": true
   },
   "outputs": [],
   "source": []
  },
  {
   "cell_type": "code",
   "execution_count": 88,
   "metadata": {
    "collapsed": false
   },
   "outputs": [],
   "source": [
    "data_set_1_new = []\n",
    "for i in data_set_1.iterrows():\n",
    "    data_set_1_new.append(i[1].tolist())\n",
    "#data_set_1_new"
   ]
  },
  {
   "cell_type": "code",
   "execution_count": 89,
   "metadata": {
    "collapsed": false
   },
   "outputs": [],
   "source": [
    "# Make a prediction with weights\n",
    "def predict(row, weights):\n",
    "    activation = weights[0]\n",
    "    for i in range(len(row)-1):\n",
    "        activation += weights[i + 1] * row[i]\n",
    "    return 1.0 if activation >= 0.0 else 0.0\n",
    "\n",
    "# Estimate Perceptron weights using stochastic gradient descent\n",
    "def train_weights(train, l_rate, n_epoch):\n",
    "    weights = [0.0 for i in range(len(train[0]))]\n",
    "    for epoch in range(n_epoch):\n",
    "        sum_error = 0.0\n",
    "        for row in train:\n",
    "            prediction = predict(row, weights)\n",
    "            error = row[-1] - prediction\n",
    "            sum_error += error**2\n",
    "            weights[0] = weights[0] + l_rate * error\n",
    "            for i in range(len(row)-1):\n",
    "                weights[i + 1] = weights[i + 1] + l_rate * error * row[i]\n",
    "        print('>epoch=%d, lrate=%.3f, error=%.3f' % (epoch, l_rate, sum_error))\n",
    "    return weights\n"
   ]
  },
  {
   "cell_type": "code",
   "execution_count": 90,
   "metadata": {
    "collapsed": false
   },
   "outputs": [
    {
     "name": "stdout",
     "output_type": "stream",
     "text": [
      ">epoch=0, lrate=0.100, error=5.000\n",
      ">epoch=1, lrate=0.100, error=2.000\n",
      ">epoch=2, lrate=0.100, error=2.000\n",
      ">epoch=3, lrate=0.100, error=0.000\n",
      ">epoch=4, lrate=0.100, error=0.000\n",
      "[-0.1, 0.06703210643922236, 0.3037286211215719]\n"
     ]
    }
   ],
   "source": [
    "# Calculate weights\n",
    "dataset_1 = data_set_1_new\n",
    "l_rate = 0.1\n",
    "n_epoch = 5\n",
    "weights = train_weights(dataset_1, l_rate, n_epoch)\n",
    "print(weights)"
   ]
  },
  {
   "cell_type": "markdown",
   "metadata": {},
   "source": [
    "## Second DataSet"
   ]
  },
  {
   "cell_type": "code",
   "execution_count": 162,
   "metadata": {
    "collapsed": false
   },
   "outputs": [
    {
     "data": {
      "image/png": "[encoded data removed]",
      "text/plain": [
       "<matplotlib.figure.Figure at 0x7f54f7d19cc0>"
      ]
     },
     "metadata": {},
     "output_type": "display_data"
    }
   ],
   "source": [
    "plt.scatter(data_set_2['X1'], data_set_2['X2'], c = data_set_2['Y'])\n",
    "plt.xlabel('X1')\n",
    "plt.ylabel('X2')\n",
    "plt.title('Feature Plot')\n",
    "plt.show()"
   ]
  },
  {
   "cell_type": "code",
   "execution_count": null,
   "metadata": {
    "collapsed": true
   },
   "outputs": [],
   "source": [
    "data_set_2_new = []\n",
    "for i in data_set_2.iterrows():\n",
    "    data_set_2_new.append(i[1].tolist())\n",
    "#data_set_1_new"
   ]
  },
  {
   "cell_type": "code",
   "execution_count": null,
   "metadata": {
    "collapsed": false
   },
   "outputs": [],
   "source": [
    "dataset_2 = data_set_2_new\n",
    "l_rate = 0.1\n",
    "n_epoch = 5\n",
    "weights = train_weights(dataset_2, l_rate, n_epoch)\n",
    "print(weights)"
   ]
  },
  {
   "cell_type": "code",
   "execution_count": null,
   "metadata": {
    "collapsed": true
   },
   "outputs": [],
   "source": []
  },
  {
   "cell_type": "markdown",
   "metadata": {},
   "source": [
    "## Third DataSet"
   ]
  },
  {
   "cell_type": "code",
   "execution_count": null,
   "metadata": {
    "collapsed": false
   },
   "outputs": [],
   "source": [
    "plt.scatter(data_set_3['X1'], data_set_3['X2'], c = data_set_3['Y'])\n",
    "plt.xlabel('X1')\n",
    "plt.ylabel('X2')\n",
    "plt.title('Feature Plot')\n",
    "plt.show()"
   ]
  },
  {
   "cell_type": "code",
   "execution_count": null,
   "metadata": {
    "collapsed": true
   },
   "outputs": [],
   "source": [
    "## can't be linearly separable"
   ]
  },
  {
   "cell_type": "code",
   "execution_count": null,
   "metadata": {
    "collapsed": true
   },
   "outputs": [],
   "source": [
    "data_set_3_new = []\n",
    "for i in data_set_3.iterrows():\n",
    "    data_set_3_new.append(i[1].tolist())\n",
    "#data_set_1_new"
   ]
  },
  {
   "cell_type": "code",
   "execution_count": null,
   "metadata": {
    "collapsed": false
   },
   "outputs": [],
   "source": [
    "dataset_3 = data_set_1_new\n",
    "l_rate = 0.1\n",
    "n_epoch = 5\n",
    "weights = train_weights(dataset_3, l_rate, n_epoch)\n",
    "print(weights)"
   ]
  },
  {
   "cell_type": "code",
   "execution_count": null,
   "metadata": {
    "collapsed": true
   },
   "outputs": [],
   "source": []
  },
  {
   "cell_type": "code",
   "execution_count": null,
   "metadata": {
    "collapsed": true
   },
   "outputs": [],
   "source": []
  },
  {
   "cell_type": "markdown",
   "metadata": {},
   "source": [
    "## Fourth DataSet"
   ]
  },
  {
   "cell_type": "code",
   "execution_count": null,
   "metadata": {
    "collapsed": false
   },
   "outputs": [],
   "source": [
    "plt.scatter(data_set_4['X1'], data_set_4['X2'], c = data_set_4['Y'])\n",
    "plt.xlabel('X1')\n",
    "plt.ylabel('X2')\n",
    "plt.title('Feature Plot')\n",
    "plt.show()"
   ]
  },
  {
   "cell_type": "code",
   "execution_count": null,
   "metadata": {
    "collapsed": true
   },
   "outputs": [],
   "source": [
    "## can't be linearly separable"
   ]
  },
  {
   "cell_type": "code",
   "execution_count": null,
   "metadata": {
    "collapsed": true
   },
   "outputs": [],
   "source": [
    "data_set_4_new = []\n",
    "for i in data_set_4.iterrows():\n",
    "    data_set_4_new.append(i[1].tolist())\n",
    "#data_set_1_new"
   ]
  },
  {
   "cell_type": "code",
   "execution_count": null,
   "metadata": {
    "collapsed": false
   },
   "outputs": [],
   "source": [
    "dataset_4 = data_set_1_new\n",
    "l_rate = 0.1\n",
    "n_epoch = 5\n",
    "weights = train_weights(dataset_4, l_rate, n_epoch)\n",
    "print(weights)"
   ]
  },
  {
   "cell_type": "code",
   "execution_count": null,
   "metadata": {
    "collapsed": true
   },
   "outputs": [],
   "source": []
  }
 ],
 "metadata": {
  "kernelspec": {
   "display_name": "Python 3",
   "language": "python",
   "name": "python3"
  },
  "language_info": {
   "codemirror_mode": {
    "name": "ipython",
    "version": 3
   },
   "file_extension": ".py",
   "mimetype": "text/x-python",
   "name": "python",
   "nbconvert_exporter": "python",
   "pygments_lexer": "ipython3",
   "version": "3.6.0"
  }
 },
 "nbformat": 4,
 "nbformat_minor": 2
}
